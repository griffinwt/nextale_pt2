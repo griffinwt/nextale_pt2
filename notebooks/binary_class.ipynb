{
 "cells": [
  {
   "cell_type": "code",
   "execution_count": 4,
   "metadata": {},
   "outputs": [],
   "source": [
    "#imports\n",
    "from scipy.stats import ttest_ind\n",
    "import pandas as pd\n",
    "import numpy as np\n",
    "from scipy import stats\n",
    "import seaborn as sns\n",
    "import matplotlib.pyplot as plt\n",
    "import re\n",
    "#week 3\n",
    "from sklearn.linear_model import LinearRegression\n",
    "from sklearn import metrics\n",
    "import statsmodels.api as sm\n",
    "from sklearn.model_selection import train_test_split, cross_val_score\n",
    "from sklearn.preprocessing import StandardScaler, PolynomialFeatures\n",
    "#week 4\n",
    "from sklearn.linear_model import Ridge\n",
    "from sklearn.linear_model import RidgeCV\n",
    "from sklearn.linear_model import Lasso, LassoCV\n",
    "from sklearn.linear_model import LogisticRegression\n",
    "from sklearn.model_selection import train_test_split, GridSearchCV\n",
    "from sklearn.preprocessing import StandardScaler\n",
    "from sklearn.neighbors import KNeighborsClassifier\n",
    "from sklearn.pipeline import Pipeline\n",
    "from sklearn.metrics import confusion_matrix, plot_confusion_matrix\n",
    "#week 5\n",
    "from sklearn.feature_extraction.text import CountVectorizer, TfidfVectorizer\n",
    "from sklearn.naive_bayes import MultinomialNB\n",
    "from nltk.stem import WordNetLemmatizer\n",
    "lemmatizer = WordNetLemmatizer()\n",
    "import nltk\n",
    "from sklearn.ensemble import RandomForestClassifier, ExtraTreesClassifier\n",
    "import warnings\n",
    "warnings.filterwarnings('ignore')"
   ]
  },
  {
   "cell_type": "code",
   "execution_count": 5,
   "metadata": {},
   "outputs": [],
   "source": [
    "vg = pd.read_csv('../data/video_games.csv')"
   ]
  },
  {
   "cell_type": "code",
   "execution_count": 6,
   "metadata": {},
   "outputs": [
    {
     "data": {
      "text/html": [
       "<div>\n",
       "<style scoped>\n",
       "    .dataframe tbody tr th:only-of-type {\n",
       "        vertical-align: middle;\n",
       "    }\n",
       "\n",
       "    .dataframe tbody tr th {\n",
       "        vertical-align: top;\n",
       "    }\n",
       "\n",
       "    .dataframe thead th {\n",
       "        text-align: right;\n",
       "    }\n",
       "</style>\n",
       "<table border=\"1\" class=\"dataframe\">\n",
       "  <thead>\n",
       "    <tr style=\"text-align: right;\">\n",
       "      <th></th>\n",
       "      <th>customer_id</th>\n",
       "      <th>review_id</th>\n",
       "      <th>product_id</th>\n",
       "      <th>product_parent</th>\n",
       "      <th>product_title</th>\n",
       "      <th>star_rating</th>\n",
       "      <th>helpful_votes</th>\n",
       "      <th>total_votes</th>\n",
       "      <th>verified_purchase</th>\n",
       "      <th>review_date</th>\n",
       "      <th>full_review</th>\n",
       "    </tr>\n",
       "  </thead>\n",
       "  <tbody>\n",
       "    <tr>\n",
       "      <th>0</th>\n",
       "      <td>12039526</td>\n",
       "      <td>RTIS3L2M1F5SM</td>\n",
       "      <td>B001CXYMFS</td>\n",
       "      <td>737716809</td>\n",
       "      <td>Thrustmaster T-Flight Hotas X Flight Stick</td>\n",
       "      <td>5</td>\n",
       "      <td>0</td>\n",
       "      <td>0</td>\n",
       "      <td>1</td>\n",
       "      <td>2015-08-31</td>\n",
       "      <td>amazing joystick I especially love twist Used ...</td>\n",
       "    </tr>\n",
       "    <tr>\n",
       "      <th>1</th>\n",
       "      <td>2331478</td>\n",
       "      <td>R3BH071QLH8QMC</td>\n",
       "      <td>B0029CSOD2</td>\n",
       "      <td>98937668</td>\n",
       "      <td>Hidden Mysteries: Titanic Secrets of the Fatef...</td>\n",
       "      <td>1</td>\n",
       "      <td>0</td>\n",
       "      <td>1</td>\n",
       "      <td>1</td>\n",
       "      <td>2015-08-31</td>\n",
       "      <td>One Star poor quality work advertised</td>\n",
       "    </tr>\n",
       "    <tr>\n",
       "      <th>2</th>\n",
       "      <td>52495923</td>\n",
       "      <td>R127K9NTSXA2YH</td>\n",
       "      <td>B00GOOSV98</td>\n",
       "      <td>23143350</td>\n",
       "      <td>GelTabz Performance Thumb Grips - PlayStation ...</td>\n",
       "      <td>3</td>\n",
       "      <td>0</td>\n",
       "      <td>0</td>\n",
       "      <td>1</td>\n",
       "      <td>2015-08-31</td>\n",
       "      <td>good could bettee nice tend slip away stick in...</td>\n",
       "    </tr>\n",
       "    <tr>\n",
       "      <th>3</th>\n",
       "      <td>14533949</td>\n",
       "      <td>R32ZWUXDJPW27Q</td>\n",
       "      <td>B00Y074JOM</td>\n",
       "      <td>821342511</td>\n",
       "      <td>Zero Suit Samus amiibo - Japan Import (Super S...</td>\n",
       "      <td>4</td>\n",
       "      <td>0</td>\n",
       "      <td>0</td>\n",
       "      <td>1</td>\n",
       "      <td>2015-08-31</td>\n",
       "      <td>Great flawed Great amiibo great collecting Qua...</td>\n",
       "    </tr>\n",
       "    <tr>\n",
       "      <th>4</th>\n",
       "      <td>17521011</td>\n",
       "      <td>R2F0POU5K6F73F</td>\n",
       "      <td>B008XHCLFO</td>\n",
       "      <td>24234603</td>\n",
       "      <td>Protection for your 3DS XL</td>\n",
       "      <td>5</td>\n",
       "      <td>0</td>\n",
       "      <td>0</td>\n",
       "      <td>1</td>\n",
       "      <td>2015-08-31</td>\n",
       "      <td>A Must I 2012 2013 XL durable comfortable real...</td>\n",
       "    </tr>\n",
       "  </tbody>\n",
       "</table>\n",
       "</div>"
      ],
      "text/plain": [
       "   customer_id       review_id  product_id  product_parent  \\\n",
       "0     12039526   RTIS3L2M1F5SM  B001CXYMFS       737716809   \n",
       "1      2331478  R3BH071QLH8QMC  B0029CSOD2        98937668   \n",
       "2     52495923  R127K9NTSXA2YH  B00GOOSV98        23143350   \n",
       "3     14533949  R32ZWUXDJPW27Q  B00Y074JOM       821342511   \n",
       "4     17521011  R2F0POU5K6F73F  B008XHCLFO        24234603   \n",
       "\n",
       "                                       product_title  star_rating  \\\n",
       "0         Thrustmaster T-Flight Hotas X Flight Stick            5   \n",
       "1  Hidden Mysteries: Titanic Secrets of the Fatef...            1   \n",
       "2  GelTabz Performance Thumb Grips - PlayStation ...            3   \n",
       "3  Zero Suit Samus amiibo - Japan Import (Super S...            4   \n",
       "4                         Protection for your 3DS XL            5   \n",
       "\n",
       "   helpful_votes  total_votes  verified_purchase review_date  \\\n",
       "0              0            0                  1  2015-08-31   \n",
       "1              0            1                  1  2015-08-31   \n",
       "2              0            0                  1  2015-08-31   \n",
       "3              0            0                  1  2015-08-31   \n",
       "4              0            0                  1  2015-08-31   \n",
       "\n",
       "                                         full_review  \n",
       "0  amazing joystick I especially love twist Used ...  \n",
       "1              One Star poor quality work advertised  \n",
       "2  good could bettee nice tend slip away stick in...  \n",
       "3  Great flawed Great amiibo great collecting Qua...  \n",
       "4  A Must I 2012 2013 XL durable comfortable real...  "
      ]
     },
     "execution_count": 6,
     "metadata": {},
     "output_type": "execute_result"
    }
   ],
   "source": [
    "vg.head()"
   ]
  },
  {
   "cell_type": "code",
   "execution_count": 7,
   "metadata": {},
   "outputs": [
    {
     "data": {
      "text/plain": [
       "R3SMTEMHJE303O    1\n",
       "R3IKF0LYK155TY    1\n",
       "R34YZUQ91WADPA    1\n",
       "R3DUG1JOYCUNTE    1\n",
       "R1INL03CXGF7OQ    1\n",
       "                 ..\n",
       "R2QNTZOM53OMG0    1\n",
       "R3AX43HKDA54I8    1\n",
       "R1E46B81AJHUTP    1\n",
       "R3QWL83GR8U287    1\n",
       "R2QK6PIIKMIK7U    1\n",
       "Name: review_id, Length: 1648136, dtype: int64"
      ]
     },
     "execution_count": 7,
     "metadata": {},
     "output_type": "execute_result"
    }
   ],
   "source": [
    "vg['review_id'].value_counts() #confirming no duplicate reviews"
   ]
  },
  {
   "cell_type": "code",
   "execution_count": 8,
   "metadata": {},
   "outputs": [
    {
     "data": {
      "text/plain": [
       "customer_id           0\n",
       "review_id             0\n",
       "product_id            0\n",
       "product_parent        0\n",
       "product_title         0\n",
       "star_rating           0\n",
       "helpful_votes         0\n",
       "total_votes           0\n",
       "verified_purchase     0\n",
       "review_date           0\n",
       "full_review          47\n",
       "dtype: int64"
      ]
     },
     "execution_count": 8,
     "metadata": {},
     "output_type": "execute_result"
    }
   ],
   "source": [
    "vg.isnull().sum()"
   ]
  },
  {
   "cell_type": "code",
   "execution_count": 9,
   "metadata": {},
   "outputs": [],
   "source": [
    "vg.dropna(inplace=True) #drop null values - these have no review text and are therefore useless to our model"
   ]
  },
  {
   "cell_type": "code",
   "execution_count": 10,
   "metadata": {},
   "outputs": [
    {
     "data": {
      "text/plain": [
       "1    0.65529\n",
       "0    0.34471\n",
       "Name: verified_purchase, dtype: float64"
      ]
     },
     "execution_count": 10,
     "metadata": {},
     "output_type": "execute_result"
    }
   ],
   "source": [
    "vg['verified_purchase'].value_counts(normalize=True)"
   ]
  },
  {
   "cell_type": "markdown",
   "metadata": {},
   "source": [
    "Baseline accuracy will be 65.5% (predicting all reviews as coming from verified purchases). We'll see if I can predict any better through NLP.\n",
    "\n",
    "First I'll drop columns that aren't relevant to this project - in order to simplify and save memory."
   ]
  },
  {
   "cell_type": "code",
   "execution_count": 11,
   "metadata": {},
   "outputs": [],
   "source": [
    "vg = vg[['verified_purchase', 'full_review']]"
   ]
  },
  {
   "cell_type": "code",
   "execution_count": 12,
   "metadata": {},
   "outputs": [
    {
     "data": {
      "text/html": [
       "<div>\n",
       "<style scoped>\n",
       "    .dataframe tbody tr th:only-of-type {\n",
       "        vertical-align: middle;\n",
       "    }\n",
       "\n",
       "    .dataframe tbody tr th {\n",
       "        vertical-align: top;\n",
       "    }\n",
       "\n",
       "    .dataframe thead th {\n",
       "        text-align: right;\n",
       "    }\n",
       "</style>\n",
       "<table border=\"1\" class=\"dataframe\">\n",
       "  <thead>\n",
       "    <tr style=\"text-align: right;\">\n",
       "      <th></th>\n",
       "      <th>verified_purchase</th>\n",
       "      <th>full_review</th>\n",
       "    </tr>\n",
       "  </thead>\n",
       "  <tbody>\n",
       "    <tr>\n",
       "      <th>0</th>\n",
       "      <td>1</td>\n",
       "      <td>amazing joystick I especially love twist Used ...</td>\n",
       "    </tr>\n",
       "    <tr>\n",
       "      <th>1</th>\n",
       "      <td>1</td>\n",
       "      <td>One Star poor quality work advertised</td>\n",
       "    </tr>\n",
       "    <tr>\n",
       "      <th>2</th>\n",
       "      <td>1</td>\n",
       "      <td>good could bettee nice tend slip away stick in...</td>\n",
       "    </tr>\n",
       "    <tr>\n",
       "      <th>3</th>\n",
       "      <td>1</td>\n",
       "      <td>Great flawed Great amiibo great collecting Qua...</td>\n",
       "    </tr>\n",
       "    <tr>\n",
       "      <th>4</th>\n",
       "      <td>1</td>\n",
       "      <td>A Must I 2012 2013 XL durable comfortable real...</td>\n",
       "    </tr>\n",
       "  </tbody>\n",
       "</table>\n",
       "</div>"
      ],
      "text/plain": [
       "   verified_purchase                                        full_review\n",
       "0                  1  amazing joystick I especially love twist Used ...\n",
       "1                  1              One Star poor quality work advertised\n",
       "2                  1  good could bettee nice tend slip away stick in...\n",
       "3                  1  Great flawed Great amiibo great collecting Qua...\n",
       "4                  1  A Must I 2012 2013 XL durable comfortable real..."
      ]
     },
     "execution_count": 12,
     "metadata": {},
     "output_type": "execute_result"
    }
   ],
   "source": [
    "vg.head()"
   ]
  },
  {
   "cell_type": "markdown",
   "metadata": {},
   "source": [
    "First thing to do as always is a good train test split - I'll stratify to be sure I get equal representation of the positive and negative class in both training and test sets."
   ]
  },
  {
   "cell_type": "code",
   "execution_count": 13,
   "metadata": {},
   "outputs": [],
   "source": [
    "X = vg['full_review']\n",
    "y = vg['verified_purchase']"
   ]
  },
  {
   "cell_type": "code",
   "execution_count": 14,
   "metadata": {},
   "outputs": [],
   "source": [
    "X_train, X_test, y_train, y_test = train_test_split(X,y,random_state=17, stratify=y)"
   ]
  },
  {
   "cell_type": "code",
   "execution_count": 15,
   "metadata": {},
   "outputs": [
    {
     "name": "stdout",
     "output_type": "stream",
     "text": [
      " \n",
      "(1236066,),\n",
      "(1236066,),\n",
      "(412023,),\n",
      "(412023,)\n",
      "\n"
     ]
    }
   ],
   "source": [
    "#check shapes\n",
    "print(f''' \n",
    "{X_train.shape},\n",
    "{y_train.shape},\n",
    "{X_test.shape},\n",
    "{y_test.shape}\n",
    "''')"
   ]
  },
  {
   "cell_type": "markdown",
   "metadata": {},
   "source": [
    "For the modeling, I'm going to borrow some functions I wrote during the Reddit NLP project I did previously."
   ]
  },
  {
   "cell_type": "code",
   "execution_count": 16,
   "metadata": {},
   "outputs": [],
   "source": [
    "def pipemaker(scaler, classifier):\n",
    "    if scaler == 'cvec':\n",
    "        item1 = ('cvec', CountVectorizer())\n",
    "    elif scaler == 'tvec':\n",
    "        item1 = ('tvec', TfidfVectorizer())\n",
    "    else:\n",
    "        return 'Error. Please enter \"cvec\" or \"tvec\"'\n",
    "    if classifier == 'nb':\n",
    "        item2 = ('nb', MultinomialNB())\n",
    "    elif classifier == 'rf':   #added for model 10\n",
    "        item2 = ('rf', RandomForestClassifier())\n",
    "    elif classifier == 'logreg':#updated for model 12\n",
    "        item2 = ('logreg', LogisticRegression())\n",
    "    else:\n",
    "        return 'Error.'\n",
    "    return Pipeline([item1, item2])"
   ]
  },
  {
   "cell_type": "code",
   "execution_count": 17,
   "metadata": {},
   "outputs": [],
   "source": [
    "def set_params(scaler, max_feat_list, min_df_list, max_df_list, sw_list, ngram_list):\n",
    "    if scaler == 'cvec' or scaler == 'tvec':\n",
    "        pipe_params = {f'{scaler}__max_features': max_feat_list,\n",
    "                  f'{scaler}__min_df': min_df_list,\n",
    "                  f'{scaler}__max_df': max_df_list,\n",
    "                  f'{scaler}__stop_words': sw_list,\n",
    "                  f'{scaler}__ngram_range': ngram_list}\n",
    "    else:\n",
    "        return \"sorry, please use cvec or tvec\"\n",
    "    return pipe_params"
   ]
  },
  {
   "cell_type": "code",
   "execution_count": 18,
   "metadata": {},
   "outputs": [],
   "source": [
    "def score_model(model, X_train, y_train, X_test, y_test):\n",
    "    print(f'The best parameters are: {model.best_params_}')\n",
    "    print(f'The best training score was: {model.best_score_}')\n",
    "    print(f'The test score is: {model.score(X_test, y_test)}')\n",
    "    preds = model.predict(X_test)\n",
    "    tn, fp, fn, tp = confusion_matrix(y_test, preds).ravel()\n",
    "    print('_'*20)\n",
    "    print('Confusion Matrix for Test Set:')\n",
    "    plot_confusion_matrix(model, X_test, y_test, cmap='Blues', values_format='d');\n",
    "    plt.show()\n",
    "    print(f'The Accurracy score is {metrics.accuracy_score(y_test, preds)}')\n",
    "    print(f'The Sensitivity score is {metrics.recall_score(y_test, preds)}')\n",
    "    print(f'The Precision score is {metrics.precision_score(y_test, preds)}')\n",
    "    print('_'*20)\n",
    "    print('Receiver Operating Characteristic (ROC) curve:')\n",
    "    metrics.plot_roc_curve(model, X_test, y_test);\n",
    "    plt.show()\n",
    "    return 'Model scored!'"
   ]
  },
  {
   "cell_type": "markdown",
   "metadata": {},
   "source": [
    "I'll start with a simple Naive Bayes model"
   ]
  },
  {
   "cell_type": "code",
   "execution_count": 19,
   "metadata": {},
   "outputs": [],
   "source": [
    "import nltk\n",
    "from nltk.corpus import stopwords"
   ]
  },
  {
   "cell_type": "code",
   "execution_count": 21,
   "metadata": {},
   "outputs": [
    {
     "name": "stdout",
     "output_type": "stream",
     "text": [
      "Fitting 3 folds for each of 4 candidates, totalling 12 fits\n"
     ]
    },
    {
     "name": "stderr",
     "output_type": "stream",
     "text": [
      "[Parallel(n_jobs=8)]: Using backend LokyBackend with 8 concurrent workers.\n",
      "[Parallel(n_jobs=8)]: Done  10 out of  12 | elapsed:  4.6min remaining:   55.6s\n",
      "[Parallel(n_jobs=8)]: Done  12 out of  12 | elapsed:  4.8min finished\n"
     ]
    },
    {
     "data": {
      "text/plain": [
       "GridSearchCV(cv=3,\n",
       "             estimator=Pipeline(steps=[('cvec', CountVectorizer()),\n",
       "                                       ('nb', MultinomialNB())]),\n",
       "             n_jobs=8,\n",
       "             param_grid={'cvec__max_df': [1.0, 0.95],\n",
       "                         'cvec__max_features': [5000], 'cvec__min_df': [2],\n",
       "                         'cvec__ngram_range': [(1, 1), (1, 2)],\n",
       "                         'cvec__stop_words': [None]},\n",
       "             verbose=1)"
      ]
     },
     "execution_count": 21,
     "metadata": {},
     "output_type": "execute_result"
    }
   ],
   "source": [
    "maxfeats = [5_000] #try different volume of features\n",
    "mindf = [2] #minimum word frequency to be included in the model\n",
    "maxdf = [1.0, .95] #cutoff for words more frequent than percentage (float) threshhold\n",
    "ngrams = [(1,1), (1,2)] #range of combinations of words to try (minimum, maximum)\n",
    "swords = [None] #stop words were removed during data cleaning! (see first nextale project for details)\n",
    "scaler = 'cvec'\n",
    "classifier = 'nb'\n",
    "\n",
    "pipe = pipemaker(scaler, classifier)\n",
    "params = set_params(scaler, maxfeats, mindf, maxdf, swords, ngrams)\n",
    "\n",
    "gs = GridSearchCV(pipe, params, #load hyperparameters\n",
    "                  n_jobs=8,        #use 8 cores to process faster\n",
    "                  cv=3, verbose=1) #using 3 folds (speed) and lower verbose to limit messages returned\n",
    "\n",
    "gs.fit(X_train, y_train)"
   ]
  },
  {
   "cell_type": "code",
   "execution_count": 22,
   "metadata": {},
   "outputs": [
    {
     "name": "stdout",
     "output_type": "stream",
     "text": [
      "The best parameters are: {'cvec__max_df': 1.0, 'cvec__max_features': 5000, 'cvec__min_df': 2, 'cvec__ngram_range': (1, 1), 'cvec__stop_words': None}\n",
      "The best training score was: 0.7672187407468533\n",
      "The test score is: 0.7685735990466551\n",
      "____________________\n",
      "Confusion Matrix for Test Set:\n"
     ]
    },
    {
     "data": {
      "image/png": "[encoded data removed]",
      "text/plain": [
       "<Figure size 432x288 with 2 Axes>"
      ]
     },
     "metadata": {
      "needs_background": "light"
     },
     "output_type": "display_data"
    },
    {
     "name": "stdout",
     "output_type": "stream",
     "text": [
      "The Accurracy score is 0.7685735990466551\n",
      "The Sensitivity score is 0.8419187093046512\n",
      "The Precision score is 0.8118756361947962\n",
      "____________________\n",
      "Receiver Operating Characteristic (ROC) curve:\n"
     ]
    },
    {
     "data": {
      "image/png": "[encoded data removed]",
      "text/plain": [
       "<Figure size 432x288 with 1 Axes>"
      ]
     },
     "metadata": {
      "needs_background": "light"
     },
     "output_type": "display_data"
    },
    {
     "data": {
      "text/plain": [
       "'Model scored!'"
      ]
     },
     "execution_count": 22,
     "metadata": {},
     "output_type": "execute_result"
    }
   ],
   "source": [
    "score_model(gs, X_train, y_train, X_test, y_test)"
   ]
  },
  {
   "cell_type": "markdown",
   "metadata": {},
   "source": [
    "That's a decent starting point - 77% accuracy, well above baseline. I'm having difficulty running the grid search over too many parameters because it's just about crashing my computer! I'm going to try some other models to see how they look - I can return to the Naive Bayes method if it seems superior to the others."
   ]
  },
  {
   "cell_type": "code",
   "execution_count": null,
   "metadata": {},
   "outputs": [],
   "source": []
  },
  {
   "cell_type": "code",
   "execution_count": null,
   "metadata": {},
   "outputs": [],
   "source": []
  },
  {
   "cell_type": "code",
   "execution_count": null,
   "metadata": {},
   "outputs": [],
   "source": []
  },
  {
   "cell_type": "code",
   "execution_count": null,
   "metadata": {},
   "outputs": [],
   "source": []
  },
  {
   "cell_type": "code",
   "execution_count": null,
   "metadata": {},
   "outputs": [],
   "source": []
  },
  {
   "cell_type": "code",
   "execution_count": 26,
   "metadata": {},
   "outputs": [
    {
     "name": "stdout",
     "output_type": "stream",
     "text": [
      "Fitting 3 folds for each of 12 candidates, totalling 36 fits\n"
     ]
    },
    {
     "name": "stderr",
     "output_type": "stream",
     "text": [
      "[Parallel(n_jobs=8)]: Using backend LokyBackend with 8 concurrent workers.\n",
      "[Parallel(n_jobs=8)]: Done  36 out of  36 | elapsed: 21.2min finished\n"
     ]
    },
    {
     "name": "stdout",
     "output_type": "stream",
     "text": [
      "The best parameters are: {'cvec__max_df': 0.9, 'cvec__max_features': 5000, 'cvec__min_df': 2, 'cvec__ngram_range': (1, 1), 'cvec__stop_words': None, 'logreg__C': 1, 'logreg__max_iter': 1000, 'logreg__penalty': 'l1', 'logreg__solver': 'liblinear'}\n",
      "The best training score was: 0.7859297157271538\n",
      "The test score is: 0.7875361326916216\n",
      "____________________\n",
      "Confusion Matrix for Test Set:\n"
     ]
    },
    {
     "data": {
      "image/png": "[encoded data removed]",
      "text/plain": [
       "<Figure size 432x288 with 2 Axes>"
      ]
     },
     "metadata": {
      "needs_background": "light"
     },
     "output_type": "display_data"
    },
    {
     "name": "stdout",
     "output_type": "stream",
     "text": [
      "The Accurracy score is 0.7875361326916216\n",
      "The Sensitivity score is 0.927646540293488\n",
      "The Precision score is 0.7864593800241158\n",
      "____________________\n",
      "Receiver Operating Characteristic (ROC) curve:\n"
     ]
    },
    {
     "data": {
      "image/png": "[encoded data removed]",
      "text/plain": [
       "<Figure size 432x288 with 1 Axes>"
      ]
     },
     "metadata": {
      "needs_background": "light"
     },
     "output_type": "display_data"
    },
    {
     "data": {
      "text/plain": [
       "'Model scored!'"
      ]
     },
     "execution_count": 26,
     "metadata": {},
     "output_type": "execute_result"
    }
   ],
   "source": [
    "logreg = LogisticRegression()\n",
    "\n",
    "pipe_logreg_params = {\n",
    "    'logreg__penalty': ['l1','l2'], #try ridge and lasso\n",
    "    'logreg__solver':['liblinear'],  #change solver to handle l1 and l2\n",
    "    'logreg__max_iter': [1000], #more time to search for gradient descent\n",
    "    'logreg__C': [1, .1, 10]} #try different alphas\n",
    "\n",
    "maxfeats = [5_000] #try different volume of features\n",
    "mindf = [2] #minimum word frequency to be included in the model\n",
    "maxdf = [1.0, .9] #cutoff for words more frequent than percentage (float) threshhold \n",
    "ngrams = [(1,1)] #range of combinations of words to try (minimum, maximum) \n",
    "swords = [None]\n",
    "scaler = 'cvec' #continuing with cvec\n",
    "classifier = 'logreg' #<<<<<<<<<<<<<<<<<<<<<<<<<<<< NEW CLASSIFIER, Logreg\n",
    "\n",
    "pipe = pipemaker(scaler, classifier)\n",
    "params = set_params(scaler, maxfeats, mindf, maxdf, swords, ngrams)\n",
    "params.update(pipe_logreg_params) #<<<<<<<<<<<<<<<<<<<<concatenate my two parameter dictionaries\n",
    "gs = GridSearchCV(pipe, params, #load hyperparameters\n",
    "                  n_jobs=8,        #<<<<<<<<<<<<<<<  8 cores\n",
    "                  cv=3, verbose=1) #<<<<<<<<<<<<< 3 folds\n",
    "\n",
    "gs.fit(X_train, y_train)\n",
    "\n",
    "score_model(gs, X_train, y_train, X_test, y_test)"
   ]
  },
  {
   "cell_type": "markdown",
   "metadata": {},
   "source": [
    "Interesting, a slight improvement (1-2%) over the Naive Bayes model. Let's see how a Random Forest does."
   ]
  },
  {
   "cell_type": "code",
   "execution_count": null,
   "metadata": {},
   "outputs": [],
   "source": []
  },
  {
   "cell_type": "code",
   "execution_count": null,
   "metadata": {},
   "outputs": [],
   "source": []
  },
  {
   "cell_type": "code",
   "execution_count": null,
   "metadata": {},
   "outputs": [],
   "source": []
  },
  {
   "cell_type": "code",
   "execution_count": 20,
   "metadata": {},
   "outputs": [],
   "source": [
    "pipe_rf_params = {\n",
    "    'rf__n_estimators': [125], #number of trees in my forest\n",
    "    'rf__min_samples_split':[2],  #min number of samples required before a split\n",
    "    'rf__min_samples_leaf': [1], #min number of samples that can be on one leaf\n",
    "    'rf__max_features': ['auto'], #None performs like a tranditional bagging model, auto is sqrt of features\n",
    "    'rf__max_depth': [7], #regulate depth of tree branches to combat overfit by not going too deep\n",
    "    'rf__random_state': [17] #set random state\n",
    "}"
   ]
  },
  {
   "cell_type": "code",
   "execution_count": 21,
   "metadata": {},
   "outputs": [
    {
     "name": "stdout",
     "output_type": "stream",
     "text": [
      "Fitting 3 folds for each of 1 candidates, totalling 3 fits\n"
     ]
    },
    {
     "name": "stderr",
     "output_type": "stream",
     "text": [
      "[Parallel(n_jobs=8)]: Using backend LokyBackend with 8 concurrent workers.\n",
      "[Parallel(n_jobs=8)]: Done   3 out of   3 | elapsed:  3.0min finished\n"
     ]
    },
    {
     "name": "stdout",
     "output_type": "stream",
     "text": [
      "The best parameters are: {'cvec__max_df': 1.0, 'cvec__max_features': 5000, 'cvec__min_df': 1, 'cvec__ngram_range': (1, 1), 'cvec__stop_words': None, 'rf__max_depth': 7, 'rf__max_features': 'auto', 'rf__min_samples_leaf': 1, 'rf__min_samples_split': 2, 'rf__n_estimators': 125, 'rf__random_state': 17}\n",
      "The best training score was: 0.7218546582464044\n",
      "The test score is: 0.7191904335437584\n",
      "____________________\n",
      "Confusion Matrix for Test Set:\n"
     ]
    },
    {
     "data": {
      "image/png": "[encoded data removed]",
      "text/plain": [
       "<Figure size 432x288 with 2 Axes>"
      ]
     },
     "metadata": {
      "needs_background": "light"
     },
     "output_type": "display_data"
    },
    {
     "name": "stdout",
     "output_type": "stream",
     "text": [
      "The Accurracy score is 0.7191904335437584\n",
      "The Sensitivity score is 0.9550064075497974\n",
      "The Precision score is 0.7134682538364905\n",
      "____________________\n",
      "Receiver Operating Characteristic (ROC) curve:\n"
     ]
    },
    {
     "data": {
      "image/png": "[encoded data removed]",
      "text/plain": [
       "<Figure size 432x288 with 1 Axes>"
      ]
     },
     "metadata": {
      "needs_background": "light"
     },
     "output_type": "display_data"
    },
    {
     "data": {
      "text/plain": [
       "'Model scored!'"
      ]
     },
     "execution_count": 21,
     "metadata": {},
     "output_type": "execute_result"
    }
   ],
   "source": [
    "maxfeats = [5_000] #try different volume of features\n",
    "mindf = [1] #minimum word frequency to be included in the model\n",
    "maxdf = [1.0] #cutoff for words more frequent than percentage (float) threshhold \n",
    "ngrams = [(1,1)] #range of combinations of words to try (minimum, maximum) \n",
    "swords = [None]\n",
    "scaler = 'cvec' #continuing with cvec\n",
    "classifier = 'rf' #<<<<<<<<<<<<<<<<<<<<<<<<<<<< NEW CLASSIFIER, Random Forest\n",
    "\n",
    "pipe = pipemaker(scaler, classifier)\n",
    "params = set_params(scaler, maxfeats, mindf, maxdf, swords, ngrams)\n",
    "\n",
    "params.update(pipe_rf_params) #<<<<<<<<<<<<<<<<<<<<concatenate my two parameter dictionaries\n",
    "\n",
    "gs = GridSearchCV(pipe, params, #load hyperparameters\n",
    "                  n_jobs=8,        #<<<<<<<<<<<<<<<CHANGE: upping to 10 cores\n",
    "                  cv=3, verbose=1) #<<<<<<<<<<<<<CHANGE: reduced to 3 cv folds for faster processing\n",
    "\n",
    "gs.fit(X_train, y_train)\n",
    "\n",
    "score_model(gs, X_train, y_train, X_test, y_test)"
   ]
  },
  {
   "cell_type": "code",
   "execution_count": null,
   "metadata": {},
   "outputs": [],
   "source": []
  }
 ],
 "metadata": {
  "kernelspec": {
   "display_name": "Python 3",
   "language": "python",
   "name": "python3"
  },
  "language_info": {
   "codemirror_mode": {
    "name": "ipython",
    "version": 3
   },
   "file_extension": ".py",
   "mimetype": "text/x-python",
   "name": "python",
   "nbconvert_exporter": "python",
   "pygments_lexer": "ipython3",
   "version": "3.8.3"
  }
 },
 "nbformat": 4,
 "nbformat_minor": 4
}
